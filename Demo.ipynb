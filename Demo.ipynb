{
 "cells": [
  {
   "cell_type": "code",
   "execution_count": 16,
   "id": "28d93d7f",
   "metadata": {},
   "outputs": [
    {
     "name": "stdout",
     "output_type": "stream",
     "text": [
      "LAW QUOTE STOP JOHN    John stopped quoting the law .\n"
     ]
    }
   ],
   "source": [
    "import random\n",
    "\n",
    "\"\"\"\n",
    "Proviamo a generare esempi da un dataset di addestramento già esistente\n",
    "\"\"\"\n",
    "\n",
    "with open('dati/v1_ad_un_g1_50000_0.8_0.5_cop1.txt', 'r') as fp:\n",
    "    esempi = fp.readlines()\n",
    "esempio = random.choice(esempi)\n",
    "print('{}    {}'.format(esempio.split('\\t')[0], esempio.split('\\t')[1].strip()))"
   ]
  },
  {
   "cell_type": "code",
   "execution_count": 29,
   "id": "c7139493",
   "metadata": {},
   "outputs": [
    {
     "name": "stdout",
     "output_type": "stream",
     "text": [
      "PAPER REVIEW JOHN    John reviewed the paper .\n"
     ]
    }
   ],
   "source": [
    "\"\"\"\n",
    "Proviamo a generare esempi da un dataset di addestramento in cui alcuni nomi hanno dei verbi tipici (qui \"write\" per \"thesis\", \"review\" per \"paper\" e \"read\" per \"book\")\"\n",
    "\"\"\"\n",
    "\n",
    "with open('dati/v1_ad_tip_g1_50000_0.8_0.5_cop1.txt', 'r') as fp:\n",
    "    esempi = fp.readlines()\n",
    "esempio = random.choice(esempi)\n",
    "print('{}    {}'.format(esempio.split('\\t')[0], esempio.split('\\t')[1].strip()))"
   ]
  },
  {
   "cell_type": "code",
   "execution_count": 43,
   "id": "4457060b",
   "metadata": {},
   "outputs": [
    {
     "name": "stdout",
     "output_type": "stream",
     "text": [
      "Utilità dell'enunciato 'John started the thesis .' data la sequenza di simboli 'THESIS READ START JOHN' è -1.9078992717326\n",
      "Utilità dell'enunciato 'John ended the thesis .' data la sequenza di simboli 'THESIS READ START JOHN' è -2.195581344184381\n"
     ]
    }
   ],
   "source": [
    "import utils_modelli\n",
    "\n",
    "\"\"\"\n",
    "Chiediamo a un modello parlante RSA l'utilità di alcuni enunciati data una sequenza di simboli\n",
    "NB: i valori al momento sono insignificanti perché il modello RSA si basa su una funzione semantica che è una rete neurale\n",
    "che ha ricevuto un addestramento molto breve (l'esecuzione richiede alcuni secondi)\n",
    "\"\"\"\n",
    "\n",
    "sequenza_di_simboli = 'THESIS READ START JOHN'  #  attenzione: deve rispettare le regole della grammatica definita a priori!\n",
    "enunciato1 = 'John started the thesis .'  #  attenzione: deve rispettare le regole della grammatica definita a priori!\n",
    "enunciato2 = 'John ended the thesis .'\n",
    "\n",
    "utilita_per_ciascun_enunciato = utils_modelli.ottieni_valore_da_modello_RSA(sequenza_di_simboli)\n",
    "print(\"Utilità dell'enunciato '{}' data la sequenza di simboli '{}' è {}\".format(enunciato1, sequenza_di_simboli, utilita_per_ciascun_enunciato[enunciato1]))\n",
    "print(\"Utilità dell'enunciato '{}' data la sequenza di simboli '{}' è {}\".format(enunciato2, sequenza_di_simboli, utilita_per_ciascun_enunciato[enunciato2]))"
   ]
  },
  {
   "cell_type": "code",
   "execution_count": null,
   "id": "20d193e4",
   "metadata": {},
   "outputs": [],
   "source": []
  }
 ],
 "metadata": {
  "kernelspec": {
   "display_name": "venv_seq2seq",
   "language": "python",
   "name": "venv_seq2seq"
  },
  "language_info": {
   "codemirror_mode": {
    "name": "ipython",
    "version": 3
   },
   "file_extension": ".py",
   "mimetype": "text/x-python",
   "name": "python",
   "nbconvert_exporter": "python",
   "pygments_lexer": "ipython3",
   "version": "3.7.10"
  }
 },
 "nbformat": 4,
 "nbformat_minor": 5
}
